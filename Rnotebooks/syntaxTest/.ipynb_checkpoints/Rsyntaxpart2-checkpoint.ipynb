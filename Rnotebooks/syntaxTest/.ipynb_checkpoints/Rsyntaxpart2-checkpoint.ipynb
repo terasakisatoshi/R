{
 "cells": [
  {
   "cell_type": "markdown",
   "metadata": {},
   "source": [
    "# R文法確認ノートPart2"
   ]
  },
  {
   "cell_type": "markdown",
   "metadata": {},
   "source": [
    "# CSVの読み込み"
   ]
  },
  {
   "cell_type": "code",
   "execution_count": 2,
   "metadata": {},
   "outputs": [
    {
     "data": {
      "text/html": [
       "'/Users/terasakisatoshi/Documents/work/R/syntaxTest'"
      ],
      "text/latex": [
       "'/Users/terasakisatoshi/Documents/work/R/syntaxTest'"
      ],
      "text/markdown": [
       "'/Users/terasakisatoshi/Documents/work/R/syntaxTest'"
      ],
      "text/plain": [
       "[1] \"/Users/terasakisatoshi/Documents/work/R/syntaxTest\""
      ]
     },
     "metadata": {},
     "output_type": "display_data"
    }
   ],
   "source": [
    "getwd()"
   ]
  },
  {
   "cell_type": "code",
   "execution_count": 16,
   "metadata": {},
   "outputs": [
    {
     "data": {
      "text/html": [
       "<table>\n",
       "<thead><tr><th scope=col>V1</th><th scope=col>V2</th></tr></thead>\n",
       "<tbody>\n",
       "\t<tr><td>math    </td><td>10      </td></tr>\n",
       "\t<tr><td>english </td><td>20      </td></tr>\n",
       "\t<tr><td>japanese</td><td>30      </td></tr>\n",
       "\t<tr><td>music   </td><td>40      </td></tr>\n",
       "</tbody>\n",
       "</table>\n"
      ],
      "text/latex": [
       "\\begin{tabular}{r|ll}\n",
       " V1 & V2\\\\\n",
       "\\hline\n",
       "\t math     & 10      \\\\\n",
       "\t english  & 20      \\\\\n",
       "\t japanese & 30      \\\\\n",
       "\t music    & 40      \\\\\n",
       "\\end{tabular}\n"
      ],
      "text/markdown": [
       "\n",
       "V1 | V2 | \n",
       "|---|---|---|---|\n",
       "| math     | 10       | \n",
       "| english  | 20       | \n",
       "| japanese | 30       | \n",
       "| music    | 40       | \n",
       "\n",
       "\n"
      ],
      "text/plain": [
       "  V1       V2\n",
       "1 math     10\n",
       "2 english  20\n",
       "3 japanese 30\n",
       "4 music    40"
      ]
     },
     "metadata": {},
     "output_type": "display_data"
    }
   ],
   "source": [
    "#ヘッダーなし\n",
    "data<-read.csv(\"data.csv\",header=FALSE)\n",
    "data"
   ]
  },
  {
   "cell_type": "code",
   "execution_count": 17,
   "metadata": {},
   "outputs": [
    {
     "data": {
      "text/html": [
       "<table>\n",
       "<thead><tr><th scope=col>subject</th><th scope=col>points</th></tr></thead>\n",
       "<tbody>\n",
       "\t<tr><td>math    </td><td>50      </td></tr>\n",
       "\t<tr><td>japanese</td><td>40      </td></tr>\n",
       "\t<tr><td>program </td><td>50      </td></tr>\n",
       "\t<tr><td>science </td><td>70      </td></tr>\n",
       "</tbody>\n",
       "</table>\n"
      ],
      "text/latex": [
       "\\begin{tabular}{r|ll}\n",
       " subject & points\\\\\n",
       "\\hline\n",
       "\t math     & 50      \\\\\n",
       "\t japanese & 40      \\\\\n",
       "\t program  & 50      \\\\\n",
       "\t science  & 70      \\\\\n",
       "\\end{tabular}\n"
      ],
      "text/markdown": [
       "\n",
       "subject | points | \n",
       "|---|---|---|---|\n",
       "| math     | 50       | \n",
       "| japanese | 40       | \n",
       "| program  | 50       | \n",
       "| science  | 70       | \n",
       "\n",
       "\n"
      ],
      "text/plain": [
       "  subject  points\n",
       "1 math     50    \n",
       "2 japanese 40    \n",
       "3 program  50    \n",
       "4 science  70    "
      ]
     },
     "metadata": {},
     "output_type": "display_data"
    }
   ],
   "source": [
    "#ヘッダー指定\n",
    "data_with_header<-read.csv(\"data-with-header.csv\",header=TRUE)\n",
    "data_with_header"
   ]
  },
  {
   "cell_type": "code",
   "execution_count": 20,
   "metadata": {},
   "outputs": [
    {
     "data": {
      "text/html": [
       "<table>\n",
       "<thead><tr><th scope=col>subject</th></tr></thead>\n",
       "<tbody>\n",
       "\t<tr><td>math    </td></tr>\n",
       "\t<tr><td>japanese</td></tr>\n",
       "\t<tr><td>program </td></tr>\n",
       "\t<tr><td>science </td></tr>\n",
       "</tbody>\n",
       "</table>\n"
      ],
      "text/latex": [
       "\\begin{tabular}{r|l}\n",
       " subject\\\\\n",
       "\\hline\n",
       "\t math    \\\\\n",
       "\t japanese\\\\\n",
       "\t program \\\\\n",
       "\t science \\\\\n",
       "\\end{tabular}\n"
      ],
      "text/markdown": [
       "\n",
       "subject | \n",
       "|---|---|---|---|\n",
       "| math     | \n",
       "| japanese | \n",
       "| program  | \n",
       "| science  | \n",
       "\n",
       "\n"
      ],
      "text/plain": [
       "  subject \n",
       "1 math    \n",
       "2 japanese\n",
       "3 program \n",
       "4 science "
      ]
     },
     "metadata": {},
     "output_type": "display_data"
    },
    {
     "data": {
      "text/html": [
       "<table>\n",
       "<thead><tr><th scope=col>points</th></tr></thead>\n",
       "<tbody>\n",
       "\t<tr><td>50</td></tr>\n",
       "\t<tr><td>40</td></tr>\n",
       "\t<tr><td>50</td></tr>\n",
       "\t<tr><td>70</td></tr>\n",
       "</tbody>\n",
       "</table>\n"
      ],
      "text/latex": [
       "\\begin{tabular}{r|l}\n",
       " points\\\\\n",
       "\\hline\n",
       "\t 50\\\\\n",
       "\t 40\\\\\n",
       "\t 50\\\\\n",
       "\t 70\\\\\n",
       "\\end{tabular}\n"
      ],
      "text/markdown": [
       "\n",
       "points | \n",
       "|---|---|---|---|\n",
       "| 50 | \n",
       "| 40 | \n",
       "| 50 | \n",
       "| 70 | \n",
       "\n",
       "\n"
      ],
      "text/plain": [
       "  points\n",
       "1 50    \n",
       "2 40    \n",
       "3 50    \n",
       "4 70    "
      ]
     },
     "metadata": {},
     "output_type": "display_data"
    }
   ],
   "source": [
    "#参照\n",
    "data_with_header['subject']\n",
    "data_with_header['points']"
   ]
  },
  {
   "cell_type": "code",
   "execution_count": null,
   "metadata": {
    "collapsed": true
   },
   "outputs": [],
   "source": []
  }
 ],
 "metadata": {
  "kernelspec": {
   "display_name": "R",
   "language": "R",
   "name": "ir"
  },
  "language_info": {
   "codemirror_mode": "r",
   "file_extension": ".r",
   "mimetype": "text/x-r-source",
   "name": "R",
   "pygments_lexer": "r",
   "version": "3.3.3"
  }
 },
 "nbformat": 4,
 "nbformat_minor": 2
}
