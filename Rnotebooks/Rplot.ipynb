{
 "cells": [
  {
   "cell_type": "markdown",
   "metadata": {},
   "source": [
    "# Japanse Test"
   ]
  },
  {
   "cell_type": "markdown",
   "metadata": {},
   "source": [
    "## 初回だけこれを行う．"
   ]
  },
  {
   "cell_type": "code",
   "execution_count": null,
   "metadata": {
    "collapsed": false
   },
   "outputs": [
    {
     "name": "stdout",
     "output_type": "stream",
     "text": [
      "\n",
      "The downloaded binary packages are in\n",
      "\t/var/folders/6q/vbfcmwbn4qq9lfpvr28lz9540000gn/T//RtmpCPR6NT/downloaded_packages\n"
     ]
    },
    {
     "name": "stderr",
     "output_type": "stream",
     "text": [
      "Loading required package: extrafont\n",
      "Registering fonts with R\n"
     ]
    }
   ],
   "source": [
    "# extrafontライブラリでフォントの管理を簡略化します。\n",
    "install.packages(\"extrafont\")\n",
    "require(extrafont)\n",
    "\n",
    "# システムフォントをRのライブラリ配下にインポートします(十数分かかります。)\n",
    "font_import()\n",
    "\n",
    "# 今のセッションで使えるようにフォントをロードします。\n",
    "loadfonts(quiet = TRUE)"
   ]
  },
  {
   "cell_type": "markdown",
   "metadata": {},
   "source": [
    "## 日本語が　plot　でも使えるようになる．"
   ]
  },
  {
   "cell_type": "code",
   "execution_count": null,
   "metadata": {
    "collapsed": true
   },
   "outputs": [],
   "source": [
    "library(Cairo)\n",
    "library(ggplot2)"
   ]
  },
  {
   "cell_type": "code",
   "execution_count": null,
   "metadata": {
    "collapsed": false
   },
   "outputs": [],
   "source": [
    "#require(extrafont)\n",
    "require(ggplot2)\n",
    "require(Cairo)\n",
    "CairoFonts(regular = \"Rounded M+ 2c light\",bold=\"Rounded M+ 2c bold\")\n",
    "\n",
    "# plot作成\n",
    "gg <- ggplot(mtcars,aes(x=wt,y=mpg)) + geom_point()\n",
    "gg <- gg + ggtitle(\"車の重さと燃費の関係\")\n",
    "gg <- gg + xlab(\"重さ\") + ylab(\"燃費\")\n",
    "gg <- gg + theme(plot.title = element_text(face=\"bold\"))\n",
    "\n",
    "# PDF出力(A4横)\n",
    "CairoPDF(paper=\"a4r\",width=11.69,height=8.27)\n",
    "print(gg)"
   ]
  }
 ],
 "metadata": {
  "kernelspec": {
   "display_name": "R",
   "language": "R",
   "name": "ir"
  },
  "language_info": {
   "codemirror_mode": "r",
   "file_extension": ".r",
   "mimetype": "text/x-r-source",
   "name": "R",
   "pygments_lexer": "r",
   "version": "3.3.3"
  }
 },
 "nbformat": 4,
 "nbformat_minor": 2
}
